{
  "nbformat": 4,
  "nbformat_minor": 0,
  "metadata": {
    "colab": {
      "name": "Innovation_FB_Graph_API.ipynb",
      "provenance": []
    },
    "kernelspec": {
      "name": "python3",
      "display_name": "Python 3"
    },
    "language_info": {
      "name": "python"
    }
  },
  "cells": [
    {
      "cell_type": "code",
      "execution_count": null,
      "metadata": {
        "id": "RUGaG8PEUpa9"
      },
      "outputs": [],
      "source": [
        "# token page: https://developers.facebook.com/tools/explorer/?method=GET&path=me%3Ffields%3Did%2Cname%2Cfriends&version=v13.0\n",
        "# video page: https://www.youtube.com/watch?v=2XHBY6BzbQQ\n",
        "import facebook\n",
        "import datetime\n",
        "import requests\n",
        "import json\n"
      ]
    },
    {
      "cell_type": "code",
      "source": [
        "token = \"\"\"token from the graph API\"\"\""
      ],
      "metadata": {
        "id": "Eo9Mda5nU0wG"
      },
      "execution_count": null,
      "outputs": []
    },
    {
      "cell_type": "code",
      "source": [
        "def get_likes_api():\n",
        "  try:\n",
        "    graph = facebook.GraphAPI(acess_token = token, version=3.1)\n",
        "    likes = graph.requests('/me/likes')['data']\n",
        "    user = graph.requests('/me?fields=name')\n",
        "\n",
        "    newlist = []\n",
        "    for dic in likes:\n",
        "      newlist.append(dic['name'])\n",
        "\n",
        "      if newlist != []:\n",
        "        now = datetime.datetime.now()\n",
        "        filename = str(user['name']) + '-likes-on' = now.strftime('-%y-%m-%d-' = '@-%H-%M')\n",
        "\n",
        "        with open(filename = '.txt', 'w') as f:\n",
        "          for item in newlist:\n",
        "            f.write('%s\\n' % item)\n",
        "\n",
        "            print('likes succesfully retrieved.')\n",
        "\n",
        "      else:\n",
        "        print('There were no likes.')\n",
        "\n",
        "  except Exception as e:\n",
        "    print(e)\n"
      ],
      "metadata": {
        "id": "37WCyWBlU0zM"
      },
      "execution_count": null,
      "outputs": []
    },
    {
      "cell_type": "code",
      "source": [
        "def get_likes_request():\n",
        "  try:\n",
        "    fields_likes, fields_user = '' + token, '' + token\n",
        "    likes = json.loads(requests.get(fields_likes).text)['data']\n",
        "    user = json.loads(requests.get(fields_user).text)['name']\n",
        "\n",
        "    newlist = []\n",
        "    for dic in likes:\n",
        "      newlist.append(dic['name'])\n",
        "\n",
        "    if newlist != []:\n",
        "      now = datetime.datetime.now()\n",
        "      filename = user + '-likes-on' + npw.strftime('-%y-%m-%d-' + '@-%H-%M')\n",
        "\n",
        "      with open(filename + '.txt', 'w') as f:\n",
        "        for item in newlist:\n",
        "          f.write('%s\\n' % item)\n",
        "\n",
        "    else:\n",
        "        print('There were no likes.')\n",
        "\n",
        "  except Exception as e:\n",
        "    print(e)"
      ],
      "metadata": {
        "id": "gxRGTnKGU017"
      },
      "execution_count": null,
      "outputs": []
    },
    {
      "cell_type": "code",
      "source": [
        ""
      ],
      "metadata": {
        "id": "2pVRJbgYU043"
      },
      "execution_count": null,
      "outputs": []
    },
    {
      "cell_type": "code",
      "source": [
        ""
      ],
      "metadata": {
        "id": "SZlPvIfCU07_"
      },
      "execution_count": null,
      "outputs": []
    }
  ]
}